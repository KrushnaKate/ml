{
 "cells": [
  {
   "cell_type": "code",
   "execution_count": null,
   "id": "cb2d4fcc-5da1-43d3-9618-f2ce7f915bee",
   "metadata": {},
   "outputs": [],
   "source": [
    "import pandas as pd"
   ]
  },
  {
   "cell_type": "code",
   "execution_count": null,
   "id": "1a404360-f168-4dad-a194-1d4b86df1a09",
   "metadata": {},
   "outputs": [],
   "source": [
    "df = pd.read_csv('addmission.csv')"
   ]
  },
  {
   "cell_type": "code",
   "execution_count": null,
   "id": "73b77c37-d6b4-4087-b6dc-2ac34bd1931c",
   "metadata": {},
   "outputs": [],
   "source": [
    "df.head()"
   ]
  },
  {
   "cell_type": "code",
   "execution_count": null,
   "id": "236b9f4b-005a-4365-9cf6-25af89c2103c",
   "metadata": {},
   "outputs": [],
   "source": [
    "df.shape"
   ]
  },
  {
   "cell_type": "code",
   "execution_count": null,
   "id": "17ce5037-4a92-404d-af30-c09f7f2987e9",
   "metadata": {},
   "outputs": [],
   "source": [
    "from sklearn.preprocessing import Binarizer"
   ]
  },
  {
   "cell_type": "code",
   "execution_count": null,
   "id": "c4a94318-275e-4814-9186-d7537ab87029",
   "metadata": {},
   "outputs": [],
   "source": [
    "bi = Binarizer(threshold=0.75)"
   ]
  },
  {
   "cell_type": "code",
   "execution_count": null,
   "id": "d8df2dc0-74d0-4a5f-ad17-bcc5dccd745a",
   "metadata": {},
   "outputs": [],
   "source": [
    "df['Chance of Admit'] = bi.fit_transform(df[['Chance of Admit']])"
   ]
  },
  {
   "cell_type": "code",
   "execution_count": null,
   "id": "929214a3-fd20-41b0-a967-ad14f0286e2b",
   "metadata": {},
   "outputs": [],
   "source": [
    "x = df[['GRE Score','TOEFL Score','University Rating','SOP','LOR','CGPA']]"
   ]
  },
  {
   "cell_type": "code",
   "execution_count": null,
   "id": "df638f9e-83c5-4d86-ac15-81d3b661af4f",
   "metadata": {},
   "outputs": [],
   "source": [
    "y = df['Chance of Admit']"
   ]
  },
  {
   "cell_type": "code",
   "execution_count": null,
   "id": "248d9053-737c-4b2a-971e-7b26c641cda1",
   "metadata": {},
   "outputs": [],
   "source": [
    "y"
   ]
  },
  {
   "cell_type": "code",
   "execution_count": null,
   "id": "540bb1d2-32c2-4a0e-ad97-8b78241e2380",
   "metadata": {},
   "outputs": [],
   "source": [
    "y.astype('int')"
   ]
  },
  {
   "cell_type": "code",
   "execution_count": null,
   "id": "a8a4e1cb-bba4-4e38-95e1-129e9eaf492f",
   "metadata": {},
   "outputs": [],
   "source": [
    "x"
   ]
  },
  {
   "cell_type": "code",
   "execution_count": null,
   "id": "89b54d69-420e-4160-b10a-f79562dddfa1",
   "metadata": {},
   "outputs": [],
   "source": [
    "from sklearn.model_selection import train_test_split\n"
   ]
  },
  {
   "cell_type": "code",
   "execution_count": null,
   "id": "17213190-9e35-41f9-bc69-7b233424c7d2",
   "metadata": {},
   "outputs": [],
   "source": [
    "x_train,x_test,y_train,y_test = train_test_split(x,y,random_state=1,train_size=0.75)"
   ]
  },
  {
   "cell_type": "code",
   "execution_count": null,
   "id": "3a976742-3d90-4812-86ff-73c9b2f5e181",
   "metadata": {},
   "outputs": [],
   "source": [
    "from sklearn.tree import DecisionTreeClassifier"
   ]
  },
  {
   "cell_type": "code",
   "execution_count": null,
   "id": "6b527e8a-c579-46ba-a626-ce06d5b3881c",
   "metadata": {},
   "outputs": [],
   "source": [
    "classifier = DecisionTreeClassifier(random_state=0)"
   ]
  },
  {
   "cell_type": "code",
   "execution_count": null,
   "id": "0c665232-8685-46e7-8a3a-a63dab52140e",
   "metadata": {},
   "outputs": [],
   "source": [
    "classifier.fit(x_train, y_train)"
   ]
  },
  {
   "cell_type": "code",
   "execution_count": null,
   "id": "a1afa6e7-e32b-4dca-a363-721392573bd5",
   "metadata": {},
   "outputs": [],
   "source": [
    "y_pred = classifier.predict(x_test)"
   ]
  },
  {
   "cell_type": "code",
   "execution_count": null,
   "id": "e1816b2d-0388-4aaa-91bf-50cf827a5d11",
   "metadata": {},
   "outputs": [],
   "source": [
    "from sklearn.metrics import ConfusionMatrixDisplay"
   ]
  },
  {
   "cell_type": "code",
   "execution_count": null,
   "id": "6e530a41-c873-4764-9a88-2b791f711f46",
   "metadata": {},
   "outputs": [],
   "source": [
    "ConfusionMatrixDisplay.from_predictions(y_test,y_pred)"
   ]
  },
  {
   "cell_type": "code",
   "execution_count": null,
   "id": "2e73f2fe-f33b-42eb-88c6-9b91119da1d3",
   "metadata": {},
   "outputs": [],
   "source": [
    "from sklearn.metrics import classification_report"
   ]
  },
  {
   "cell_type": "code",
   "execution_count": null,
   "id": "727401df-a4f1-4b6e-87ca-e357d49e52c0",
   "metadata": {},
   "outputs": [],
   "source": [
    "print(classification_report(y_test,y_pred))"
   ]
  },
  {
   "cell_type": "code",
   "execution_count": null,
   "id": "ce6c440e-ac0f-4621-984c-5d37229d2ac2",
   "metadata": {},
   "outputs": [],
   "source": [
    "from sklearn.tree import plot_tree"
   ]
  },
  {
   "cell_type": "code",
   "execution_count": null,
   "id": "01f2c6c9-ef88-4684-999b-b800e89500ef",
   "metadata": {},
   "outputs": [],
   "source": [
    "plot_tree(classifier,)"
   ]
  },
  {
   "cell_type": "code",
   "execution_count": null,
   "id": "94481e30-f9b1-49a3-b636-a4a546451011",
   "metadata": {},
   "outputs": [],
   "source": []
  }
 ],
 "metadata": {
  "kernelspec": {
   "display_name": "Python 3 (ipykernel)",
   "language": "python",
   "name": "python3"
  },
  "language_info": {
   "codemirror_mode": {
    "name": "ipython",
    "version": 3
   },
   "file_extension": ".py",
   "mimetype": "text/x-python",
   "name": "python",
   "nbconvert_exporter": "python",
   "pygments_lexer": "ipython3",
   "version": "3.11.7"
  }
 },
 "nbformat": 4,
 "nbformat_minor": 5
}
