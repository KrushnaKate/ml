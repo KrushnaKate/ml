{
 "cells": [
  {
   "cell_type": "code",
   "execution_count": null,
   "id": "e9359762-c460-499d-a738-029224127a97",
   "metadata": {},
   "outputs": [],
   "source": [
    "import pandas as pd\n",
    "import matplotlib.pyplot as plt\n"
   ]
  },
  {
   "cell_type": "code",
   "execution_count": null,
   "id": "b54c44d9-c718-4c66-909c-71120703ffec",
   "metadata": {},
   "outputs": [],
   "source": [
    "df = pd.read_csv(\"Temp.csv\")"
   ]
  },
  {
   "cell_type": "code",
   "execution_count": null,
   "id": "36519273-a3b8-48cf-a3dd-3ca9d5775afb",
   "metadata": {},
   "outputs": [],
   "source": [
    "df.head()"
   ]
  },
  {
   "cell_type": "code",
   "execution_count": null,
   "id": "e9f17ec2-2331-42d7-b43b-a7c3b56a6536",
   "metadata": {},
   "outputs": [],
   "source": [
    "x = df[\"YEAR\"]\n",
    "y = df[\"ANNUAL\"]"
   ]
  },
  {
   "cell_type": "code",
   "execution_count": null,
   "id": "522c3bc2-866a-43f9-b480-bbe51c582fa2",
   "metadata": {},
   "outputs": [],
   "source": [
    "plt.xlabel('year')\n",
    "plt.ylabel('annual temp')\n",
    "plt.scatter(x,y)"
   ]
  },
  {
   "cell_type": "code",
   "execution_count": null,
   "id": "62516114-1489-41d0-94fd-1fd733ec1775",
   "metadata": {},
   "outputs": [],
   "source": [
    "x.shape"
   ]
  },
  {
   "cell_type": "code",
   "execution_count": null,
   "id": "260033cd-8bbd-423e-aeac-ec461c20381b",
   "metadata": {},
   "outputs": [],
   "source": [
    "x=x.values"
   ]
  },
  {
   "cell_type": "code",
   "execution_count": null,
   "id": "89b72e9f-1fd7-45e2-a4b4-52a89551d4da",
   "metadata": {},
   "outputs": [],
   "source": [
    "y=y.values"
   ]
  },
  {
   "cell_type": "code",
   "execution_count": null,
   "id": "b4079c07-941b-4074-b35a-23fc528718f4",
   "metadata": {},
   "outputs": [],
   "source": [
    "x.shape"
   ]
  },
  {
   "cell_type": "code",
   "execution_count": null,
   "id": "c68524a3-5e5d-4270-bdf2-3ade502e45d2",
   "metadata": {},
   "outputs": [],
   "source": [
    "x = x.reshape(117,1)"
   ]
  },
  {
   "cell_type": "code",
   "execution_count": null,
   "id": "f237cc89-b442-448e-b9d2-fadf5c9f32d7",
   "metadata": {},
   "outputs": [],
   "source": [
    "x.shape"
   ]
  },
  {
   "cell_type": "code",
   "execution_count": null,
   "id": "dc19c341-5b4d-43ae-ac94-9499d254c057",
   "metadata": {},
   "outputs": [],
   "source": [
    "y = y.reshape(117,1)"
   ]
  },
  {
   "cell_type": "code",
   "execution_count": null,
   "id": "de49de9e-63d0-43d1-8321-647a44eb9918",
   "metadata": {},
   "outputs": [],
   "source": [
    "y.shape"
   ]
  },
  {
   "cell_type": "code",
   "execution_count": null,
   "id": "1a995bf2-35a2-4a60-82c0-2aa192bfe3f1",
   "metadata": {},
   "outputs": [],
   "source": [
    "from sklearn.linear_model import LinearRegression"
   ]
  },
  {
   "cell_type": "code",
   "execution_count": null,
   "id": "6f53c195-3454-4ac0-b74d-1c1cd675ebe7",
   "metadata": {},
   "outputs": [],
   "source": [
    "reg = LinearRegression()"
   ]
  },
  {
   "cell_type": "code",
   "execution_count": null,
   "id": "0386f06d-6239-4dd2-8555-eac771a3afb6",
   "metadata": {},
   "outputs": [],
   "source": [
    "reg.fit(x,y)"
   ]
  },
  {
   "cell_type": "code",
   "execution_count": null,
   "id": "9f8df596-0fbe-4c48-a3af-b4d1dbc50014",
   "metadata": {},
   "outputs": [],
   "source": [
    "reg.coef_"
   ]
  },
  {
   "cell_type": "code",
   "execution_count": null,
   "id": "b922eb37-43e6-48f4-9a09-1633f62f775b",
   "metadata": {},
   "outputs": [],
   "source": [
    "reg.intercept_"
   ]
  },
  {
   "cell_type": "code",
   "execution_count": null,
   "id": "eed0996c-5aea-43bb-8b68-a0bafb9081dc",
   "metadata": {},
   "outputs": [],
   "source": [
    "reg.predict([[2024]])"
   ]
  },
  {
   "cell_type": "code",
   "execution_count": null,
   "id": "ac078867-00b3-45e0-a540-e77288a5c0ab",
   "metadata": {},
   "outputs": [],
   "source": [
    "predicted = reg.predict(x)"
   ]
  },
  {
   "cell_type": "code",
   "execution_count": null,
   "id": "ed71a915-70c1-42fd-a4eb-bce5df01e385",
   "metadata": {},
   "outputs": [],
   "source": [
    "predicted"
   ]
  },
  {
   "cell_type": "code",
   "execution_count": null,
   "id": "e262f4ee-9f85-4eed-9231-a79c288ece1b",
   "metadata": {},
   "outputs": [],
   "source": [
    "from sklearn.metrics import mean_absolute_error\n",
    "from sklearn.metrics import mean_squared_error\n",
    "from sklearn.metrics import r2_score"
   ]
  },
  {
   "cell_type": "code",
   "execution_count": null,
   "id": "5021735b-32c6-44e6-9726-6424880d67e0",
   "metadata": {},
   "outputs": [],
   "source": [
    "mean_absolute_error(y,predicted)"
   ]
  },
  {
   "cell_type": "code",
   "execution_count": null,
   "id": "dc62e08b-166a-4fd9-8b88-8dc69360b9e1",
   "metadata": {},
   "outputs": [],
   "source": [
    "mean_squared_error(y,predicted)"
   ]
  },
  {
   "cell_type": "code",
   "execution_count": null,
   "id": "ea729957-4eeb-4e2a-a661-90ec21310ba9",
   "metadata": {},
   "outputs": [],
   "source": [
    "r2_score(y,predicted)"
   ]
  },
  {
   "cell_type": "code",
   "execution_count": null,
   "id": "b78cb49f-1fcd-4bb5-8ff0-8b0d86cfaa82",
   "metadata": {},
   "outputs": [],
   "source": [
    "plt.xlabel('year')\n",
    "plt.ylabel('annual')\n",
    "plt.scatter(x,y,label='actual',color='r')\n",
    "plt.plot(x,predicted,label='prdicted',color='g')\n",
    "plt.legend()"
   ]
  },
  {
   "cell_type": "code",
   "execution_count": null,
   "id": "96d9f20b-c067-42d0-b6c8-db1dcac6da47",
   "metadata": {},
   "outputs": [],
   "source": []
  }
 ],
 "metadata": {
  "kernelspec": {
   "display_name": "Python 3 (ipykernel)",
   "language": "python",
   "name": "python3"
  },
  "language_info": {
   "codemirror_mode": {
    "name": "ipython",
    "version": 3
   },
   "file_extension": ".py",
   "mimetype": "text/x-python",
   "name": "python",
   "nbconvert_exporter": "python",
   "pygments_lexer": "ipython3",
   "version": "3.11.7"
  }
 },
 "nbformat": 4,
 "nbformat_minor": 5
}
