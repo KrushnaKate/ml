{
 "cells": [
  {
   "cell_type": "code",
   "execution_count": null,
   "id": "c672317e-1fa3-408b-9316-53f361c0c3a7",
   "metadata": {},
   "outputs": [],
   "source": [
    "import pandas as pd"
   ]
  },
  {
   "cell_type": "code",
   "execution_count": null,
   "id": "db9edb24-b326-4e3c-81bf-244d5da81ef2",
   "metadata": {},
   "outputs": [],
   "source": [
    "df = pd.read_csv('Heart.csv')"
   ]
  },
  {
   "cell_type": "code",
   "execution_count": null,
   "id": "26edd663-5cf7-4d61-8dd4-149308d1260e",
   "metadata": {},
   "outputs": [],
   "source": [
    "df.head()"
   ]
  },
  {
   "cell_type": "code",
   "execution_count": null,
   "id": "14140e63-a2f1-457b-9f8d-02ce91b159f7",
   "metadata": {},
   "outputs": [],
   "source": [
    "df.shape"
   ]
  },
  {
   "cell_type": "code",
   "execution_count": null,
   "id": "17d144ac-e1fc-4257-9fff-06cbae360761",
   "metadata": {},
   "outputs": [],
   "source": [
    "df.isnull().sum()"
   ]
  },
  {
   "cell_type": "code",
   "execution_count": null,
   "id": "0475bdb4-f5d0-483d-ad91-8c8e77f0f59c",
   "metadata": {},
   "outputs": [],
   "source": [
    "df.dtypes"
   ]
  },
  {
   "cell_type": "code",
   "execution_count": null,
   "id": "c79a064b-4de7-4907-9d28-82fa4fd4ed98",
   "metadata": {},
   "outputs": [],
   "source": [
    "df[df==0].count()"
   ]
  },
  {
   "cell_type": "code",
   "execution_count": null,
   "id": "681f076c-608f-4448-86e9-236e365b9aa7",
   "metadata": {},
   "outputs": [],
   "source": [
    "df['Age'].mean()"
   ]
  },
  {
   "cell_type": "code",
   "execution_count": null,
   "id": "94b03961-80c8-411f-9a7c-55570ab1623c",
   "metadata": {},
   "outputs": [],
   "source": [
    "newdf = df[['Age', 'Sex', 'ChestPain', 'RestBP','Chol']]"
   ]
  },
  {
   "cell_type": "code",
   "execution_count": null,
   "id": "2cf3d7af-72ab-4ad7-9a9e-3a3ec5411cdb",
   "metadata": {},
   "outputs": [],
   "source": [
    "newdf"
   ]
  },
  {
   "cell_type": "code",
   "execution_count": null,
   "id": "05f1156e-7480-4a8e-88a7-7fa555ea74dd",
   "metadata": {},
   "outputs": [],
   "source": [
    "from sklearn.model_selection import train_test_split"
   ]
  },
  {
   "cell_type": "code",
   "execution_count": null,
   "id": "253f9f01-ee25-464f-8c3c-2a0ec4a9f295",
   "metadata": {},
   "outputs": [],
   "source": [
    "train,test = train_test_split(newdf,random_state=111)"
   ]
  },
  {
   "cell_type": "code",
   "execution_count": null,
   "id": "bf353904-b82d-4a22-b1b6-fded62d25bad",
   "metadata": {},
   "outputs": [],
   "source": [
    "train.shape"
   ]
  },
  {
   "cell_type": "code",
   "execution_count": null,
   "id": "a9645537-4ec5-437f-a3ae-39eead397627",
   "metadata": {},
   "outputs": [],
   "source": [
    "test.shape"
   ]
  },
  {
   "cell_type": "code",
   "execution_count": null,
   "id": "6adcb1b8-1aeb-4548-9329-87a7f1f52c56",
   "metadata": {},
   "outputs": [],
   "source": [
    "tp,tn,fp,fn = 45,395,55,5"
   ]
  },
  {
   "cell_type": "code",
   "execution_count": null,
   "id": "be8dca7c-badf-49ef-b01b-60806d5366f9",
   "metadata": {},
   "outputs": [],
   "source": [
    "from sklearn.metrics import ConfusionMatrixDisplay"
   ]
  },
  {
   "cell_type": "code",
   "execution_count": null,
   "id": "e8288d0b-de8f-4677-bbe0-6940c201b9d4",
   "metadata": {},
   "outputs": [],
   "source": [
    "actual = [1] * tp + [1] * fn + [0] * fp + [0] * tn\n",
    "predicted = [1] * tp + [0] * fn + [1] * fp + [0] * tn"
   ]
  },
  {
   "cell_type": "code",
   "execution_count": null,
   "id": "8b568e7d-3ce0-4ae7-91e5-5215993d0b28",
   "metadata": {},
   "outputs": [],
   "source": [
    "ConfusionMatrixDisplay.from_predictions(actual,predicted)"
   ]
  },
  {
   "cell_type": "code",
   "execution_count": null,
   "id": "9adc05a7-5e37-4fb3-93c7-2a20e06a66b8",
   "metadata": {},
   "outputs": [],
   "source": [
    "from sklearn.metrics import classification_report"
   ]
  },
  {
   "cell_type": "code",
   "execution_count": null,
   "id": "95345cb4-0189-4d3a-a313-082782318176",
   "metadata": {},
   "outputs": [],
   "source": [
    "print(classification_report(actual,predicted))"
   ]
  }
 ],
 "metadata": {
  "kernelspec": {
   "display_name": "Python 3 (ipykernel)",
   "language": "python",
   "name": "python3"
  },
  "language_info": {
   "codemirror_mode": {
    "name": "ipython",
    "version": 3
   },
   "file_extension": ".py",
   "mimetype": "text/x-python",
   "name": "python",
   "nbconvert_exporter": "python",
   "pygments_lexer": "ipython3",
   "version": "3.11.7"
  }
 },
 "nbformat": 4,
 "nbformat_minor": 5
}
