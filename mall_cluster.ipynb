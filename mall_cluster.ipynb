{
 "cells": [
  {
   "cell_type": "code",
   "execution_count": null,
   "id": "b1d8d10b-cb30-4dd3-a6f1-2e5c0a697f91",
   "metadata": {},
   "outputs": [],
   "source": [
    "import pandas as pd\n",
    "import matplotlib.pyplot as plt"
   ]
  },
  {
   "cell_type": "code",
   "execution_count": null,
   "id": "a2dd541f-f722-4314-832c-b5377bbc0482",
   "metadata": {},
   "outputs": [],
   "source": [
    "df = pd.read_csv('mall.csv')"
   ]
  },
  {
   "cell_type": "code",
   "execution_count": null,
   "id": "5eb74214-faa7-435c-801e-729eefa60547",
   "metadata": {},
   "outputs": [],
   "source": [
    "df.head()"
   ]
  },
  {
   "cell_type": "code",
   "execution_count": null,
   "id": "a27df49e-e19c-4b79-a188-ef2d84924a65",
   "metadata": {},
   "outputs": [],
   "source": [
    "df.info()"
   ]
  },
  {
   "cell_type": "code",
   "execution_count": null,
   "id": "f78bea10-4fa4-4a40-99be-66f577f95db1",
   "metadata": {},
   "outputs": [],
   "source": [
    "df.shape"
   ]
  },
  {
   "cell_type": "code",
   "execution_count": null,
   "id": "6dcf980f-26a5-4086-9d6c-397942c997be",
   "metadata": {},
   "outputs": [],
   "source": [
    "x = df[['Annual Income (k$)','Spending Score (1-100)']]"
   ]
  },
  {
   "cell_type": "code",
   "execution_count": null,
   "id": "c347b41a-ee47-43c7-9af2-6dfaae3574b4",
   "metadata": {},
   "outputs": [],
   "source": [
    "plt.title('unclustered data')\n",
    "plt.xlabel('Annual income')\n",
    "plt.ylabel('Spending score')\n",
    "plt.scatter(x['Annual Income (k$)'],x['Spending Score (1-100)'])"
   ]
  },
  {
   "cell_type": "code",
   "execution_count": null,
   "id": "e196e734-0fde-4a7b-8148-a4d7ce4585d3",
   "metadata": {},
   "outputs": [],
   "source": [
    "from sklearn.cluster import KMeans"
   ]
  },
  {
   "cell_type": "code",
   "execution_count": null,
   "id": "5797600f-09a0-4ace-a814-05a37693ccb4",
   "metadata": {},
   "outputs": [],
   "source": [
    "sse=[]"
   ]
  },
  {
   "cell_type": "code",
   "execution_count": null,
   "id": "cb7ecb58-cfa6-4fe1-a1a8-6d56b7a2c208",
   "metadata": {},
   "outputs": [],
   "source": [
    "for i in range(1,16):\n",
    "    km = KMeans(n_clusters=i)\n",
    "    km.fit_predict(x)\n",
    "    sse.append(km.inertia_)"
   ]
  },
  {
   "cell_type": "code",
   "execution_count": null,
   "id": "d40cba20-99c0-4505-b6f6-0cd41ce189d8",
   "metadata": {},
   "outputs": [],
   "source": [
    "plt.title('elbow')\n",
    "plt.xlabel('clusters')\n",
    "plt.ylabel('sse')\n",
    "plt.plot(range(1,16),sse)"
   ]
  },
  {
   "cell_type": "code",
   "execution_count": null,
   "id": "9c9bf539-44b2-4dac-8314-693a169165bf",
   "metadata": {},
   "outputs": [],
   "source": [
    "km = KMeans(n_clusters=5,random_state=5)"
   ]
  },
  {
   "cell_type": "code",
   "execution_count": null,
   "id": "c50c90c6-b4d7-40df-b615-cfe5291aadb3",
   "metadata": {},
   "outputs": [],
   "source": [
    "labels = km.fit_predict(x)"
   ]
  },
  {
   "cell_type": "code",
   "execution_count": null,
   "id": "900de7c4-9957-4db6-8a76-20c7e5fdb027",
   "metadata": {},
   "outputs": [],
   "source": [
    "labels"
   ]
  },
  {
   "cell_type": "code",
   "execution_count": null,
   "id": "0af3f9e5-ffbe-4d12-9d5a-1c0eae6d1a6c",
   "metadata": {},
   "outputs": [],
   "source": [
    "centers = km.cluster_centers_"
   ]
  },
  {
   "cell_type": "code",
   "execution_count": null,
   "id": "37a8bf94-d9d3-4f94-be6c-ac03552daeca",
   "metadata": {},
   "outputs": [],
   "source": [
    "plt.title('clustered data')\n",
    "plt.xlabel('annual')\n",
    "plt.ylabel('spending')\n",
    "plt.scatter(x['Annual Income (k$)'],x['Spending Score (1-100)'],c=labels)\n",
    "plt.scatter(centers[:,0],centers[:,1],s=50,color='k')"
   ]
  },
  {
   "cell_type": "code",
   "execution_count": null,
   "id": "845f1cb3-aa70-410f-a05d-4007fd7cb816",
   "metadata": {},
   "outputs": [],
   "source": []
  }
 ],
 "metadata": {
  "kernelspec": {
   "display_name": "Python 3 (ipykernel)",
   "language": "python",
   "name": "python3"
  },
  "language_info": {
   "codemirror_mode": {
    "name": "ipython",
    "version": 3
   },
   "file_extension": ".py",
   "mimetype": "text/x-python",
   "name": "python",
   "nbconvert_exporter": "python",
   "pygments_lexer": "ipython3",
   "version": "3.11.7"
  }
 },
 "nbformat": 4,
 "nbformat_minor": 5
}
