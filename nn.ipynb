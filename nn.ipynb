{
 "cells": [
  {
   "cell_type": "code",
   "execution_count": null,
   "id": "81b7e65c-8c49-47cc-8413-63949463d8ca",
   "metadata": {},
   "outputs": [],
   "source": [
    "!pip install keras tensorflow -U"
   ]
  },
  {
   "cell_type": "code",
   "execution_count": null,
   "id": "f183e29d-44f0-4be7-8fb4-08943d08b9c5",
   "metadata": {},
   "outputs": [],
   "source": [
    "import numpy as np"
   ]
  },
  {
   "cell_type": "code",
   "execution_count": null,
   "id": "59912fb3-5e7a-4c43-a90b-415069779ad3",
   "metadata": {},
   "outputs": [],
   "source": [
    "df = np.loadtxt('https://raw.githubusercontent.com/jbrownlee/Datasets/master/pima-indians-diabetes.data.csv',delimiter=',')"
   ]
  },
  {
   "cell_type": "code",
   "execution_count": null,
   "id": "2482def7-98e6-4cd9-bbd2-6f23f45d3017",
   "metadata": {},
   "outputs": [],
   "source": [
    "df"
   ]
  },
  {
   "cell_type": "code",
   "execution_count": null,
   "id": "143348f7-ccd2-4d80-b5a8-a816ccaebb00",
   "metadata": {},
   "outputs": [],
   "source": [
    "x = df[:,:8]"
   ]
  },
  {
   "cell_type": "code",
   "execution_count": null,
   "id": "e6dc1d57-f276-4dac-a927-e60e1c6f15ec",
   "metadata": {},
   "outputs": [],
   "source": [
    "y = df[:,8]"
   ]
  },
  {
   "cell_type": "code",
   "execution_count": null,
   "id": "becf64b9-3aa4-4a5e-bbd8-b11dbe3029e4",
   "metadata": {},
   "outputs": [],
   "source": [
    "y"
   ]
  },
  {
   "cell_type": "code",
   "execution_count": null,
   "id": "af13749a-d4b9-481b-b044-b9917269bd7a",
   "metadata": {},
   "outputs": [],
   "source": [
    "from tensorflow.keras.models import Sequential"
   ]
  },
  {
   "cell_type": "code",
   "execution_count": null,
   "id": "c8f0c7cf-3e1d-4b29-8fef-866f40e15056",
   "metadata": {},
   "outputs": [],
   "source": [
    "from tensorflow.keras.layers import Dense"
   ]
  },
  {
   "cell_type": "code",
   "execution_count": null,
   "id": "c7908a89-bd8f-4f30-a6d6-b59cc82d17d4",
   "metadata": {},
   "outputs": [],
   "source": [
    "model = Sequential()"
   ]
  },
  {
   "cell_type": "code",
   "execution_count": null,
   "id": "8fac316a-c960-4ad3-9ae0-99bdb6b7c022",
   "metadata": {},
   "outputs": [],
   "source": [
    "#input layer\n",
    "model.add(Dense(12,input_dim=8,activation='relu'))\n",
    "\n",
    "#hidden layers\n",
    "model.add(Dense(8,activation='relu'))\n",
    "model.add(Dense(8,activation='relu'))\n",
    "\n",
    "#output layer\n",
    "model.add(Dense(1,activation='sigmoid'))"
   ]
  },
  {
   "cell_type": "code",
   "execution_count": null,
   "id": "e47582a6-9152-4e09-82cd-f7d21a4c12bb",
   "metadata": {},
   "outputs": [],
   "source": [
    "#compile model\n",
    "model.compile(loss='binary_crossentropy',optimizer='adam',metrics=['accuracy'])"
   ]
  },
  {
   "cell_type": "code",
   "execution_count": null,
   "id": "dff0aff8-f310-4ce6-a301-661d4aa6fe83",
   "metadata": {},
   "outputs": [],
   "source": [
    "model.fit(x,y,epochs=100,batch_size=10)"
   ]
  },
  {
   "cell_type": "code",
   "execution_count": null,
   "id": "8fc92357-6710-4bf1-8c34-86d86e7de0bc",
   "metadata": {},
   "outputs": [],
   "source": [
    "model.evaluate(x,y)"
   ]
  },
  {
   "cell_type": "code",
   "execution_count": null,
   "id": "50ec5ec0-8de1-4f0b-a692-b92081a9c9e7",
   "metadata": {},
   "outputs": [],
   "source": []
  }
 ],
 "metadata": {
  "kernelspec": {
   "display_name": "Python 3 (ipykernel)",
   "language": "python",
   "name": "python3"
  },
  "language_info": {
   "codemirror_mode": {
    "name": "ipython",
    "version": 3
   },
   "file_extension": ".py",
   "mimetype": "text/x-python",
   "name": "python",
   "nbconvert_exporter": "python",
   "pygments_lexer": "ipython3",
   "version": "3.11.7"
  }
 },
 "nbformat": 4,
 "nbformat_minor": 5
}
